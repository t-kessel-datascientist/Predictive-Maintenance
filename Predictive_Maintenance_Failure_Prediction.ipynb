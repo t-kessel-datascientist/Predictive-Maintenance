{
 "cells": [
  {
   "cell_type": "markdown",
   "id": "14a71bc6",
   "metadata": {},
   "source": [
    "# Predictive Maintenance Dataset\n",
    "Dataset by kaggle (https://www.kaggle.com/datasets/shivamb/machine-predictive-maintenance-classification?resource=download)<br>\n",
    "Notebook by Tobias Kessel (https://www.linkedin.com/in/tobias-kessel-045806b5/)\n",
    "\n",
    "__The dataset consists of 10 000 data points stored as rows with 14 features in columns__\n",
    "***\n",
    "* UID: unique identifier ranging from 1 to 10000\n",
    "* productID: consisting of a letter L, M, or H for low (50% of all products), medium (30%), and high (20%) as product quality variants and a variant-specific serial number\n",
    "*air temperature [K]: generated using a random walk process later normalized to a standard deviation of 2 K around 300 K\n",
    "*process temperature [K]: generated using a random walk process normalized to a standard deviation of 1 K, added to the air *temperature plus 10 K.\n",
    "*rotational speed [rpm]: calculated from powepower of 2860 W, overlaid with a normally distributed noise\n",
    "*torque [Nm]: torque values are normally distributed around 40 Nm with an Ïƒ = 10 Nm and no negative values.\n",
    "*tool wear [min]: The quality variants H/M/L add 5/3/2 minutes of tool wear to the used tool in the process. and a\n",
    "'machine failure' label that indicates, whether the machine has failed in this particular data point for any of the following failure modes are true.\n",
    "***\n",
    "__Important : There are two Targets__\n",
    "\n",
    "* Target : Failure or Not\n",
    "* Failure Type : Type of Failure\n",
    "***"
   ]
  },
  {
   "cell_type": "markdown",
   "id": "91fa3182",
   "metadata": {},
   "source": [
    "# __Step 1:__ \n",
    "Importing libraries and CSV"
   ]
  },
  {
   "cell_type": "code",
   "execution_count": 77,
   "id": "b6099800",
   "metadata": {},
   "outputs": [],
   "source": [
    "import numpy as np\n",
    "import pandas as pd\n",
    "from sklearn.preprocessing import StandardScaler\n",
    "import matplotlib.pyplot as plt\n",
    "import seaborn as sns\n",
    "\n",
    "import datetime as dt\n",
    "from datetime import datetime, timedelta\n",
    "\n",
    "from sklearn.ensemble import RandomForestClassifier\n",
    "from sklearn.linear_model import LogisticRegression\n",
    "from sklearn.neighbors import KNeighborsClassifier\n",
    "from sklearn.svm import SVC\n",
    "from sklearn.model_selection import GridSearchCV, RepeatedStratifiedKFold, train_test_split, cross_validate, cross_val_predict\n",
    "from sklearn.metrics import accuracy_score, confusion_matrix, classification_report\n",
    "from joblib import dump, load\n",
    "import timeit\n",
    "\n",
    "from tensorflow.keras.layers import Dense, Dropout, Flatten, GlobalAveragePooling2D, Activation, Input, Flatten, Conv2D, MaxPooling2D\n",
    "from tensorflow.keras.optimizers import Adam, SGD\n",
    "from tensorflow.keras.models import Model, Sequential\n",
    "\n",
    "from warnings import simplefilter\n",
    "simplefilter(action='ignore', category=FutureWarning)\n",
    "\n",
    "%matplotlib inline"
   ]
  },
  {
   "cell_type": "code",
   "execution_count": 3,
   "id": "a67d0a33",
   "metadata": {},
   "outputs": [],
   "source": [
    "df=pd.read_csv('predictive_maintenance.csv',index_col='UDI')"
   ]
  },
  {
   "cell_type": "markdown",
   "id": "71c9bcb2",
   "metadata": {},
   "source": [
    "# __Step 2:__ \n",
    "Data Assessment"
   ]
  },
  {
   "cell_type": "code",
   "execution_count": 4,
   "id": "68d30b38",
   "metadata": {
    "scrolled": true
   },
   "outputs": [
    {
     "data": {
      "text/html": [
       "<div>\n",
       "<style scoped>\n",
       "    .dataframe tbody tr th:only-of-type {\n",
       "        vertical-align: middle;\n",
       "    }\n",
       "\n",
       "    .dataframe tbody tr th {\n",
       "        vertical-align: top;\n",
       "    }\n",
       "\n",
       "    .dataframe thead th {\n",
       "        text-align: right;\n",
       "    }\n",
       "</style>\n",
       "<table border=\"1\" class=\"dataframe\">\n",
       "  <thead>\n",
       "    <tr style=\"text-align: right;\">\n",
       "      <th></th>\n",
       "      <th>Product ID</th>\n",
       "      <th>Type</th>\n",
       "      <th>Air temperature [K]</th>\n",
       "      <th>Process temperature [K]</th>\n",
       "      <th>Rotational speed [rpm]</th>\n",
       "      <th>Torque [Nm]</th>\n",
       "      <th>Tool wear [min]</th>\n",
       "      <th>Target</th>\n",
       "      <th>Failure Type</th>\n",
       "    </tr>\n",
       "    <tr>\n",
       "      <th>UDI</th>\n",
       "      <th></th>\n",
       "      <th></th>\n",
       "      <th></th>\n",
       "      <th></th>\n",
       "      <th></th>\n",
       "      <th></th>\n",
       "      <th></th>\n",
       "      <th></th>\n",
       "      <th></th>\n",
       "    </tr>\n",
       "  </thead>\n",
       "  <tbody>\n",
       "    <tr>\n",
       "      <th>1</th>\n",
       "      <td>M14860</td>\n",
       "      <td>M</td>\n",
       "      <td>298.1</td>\n",
       "      <td>308.6</td>\n",
       "      <td>1551</td>\n",
       "      <td>42.8</td>\n",
       "      <td>0</td>\n",
       "      <td>0</td>\n",
       "      <td>No Failure</td>\n",
       "    </tr>\n",
       "    <tr>\n",
       "      <th>2</th>\n",
       "      <td>L47181</td>\n",
       "      <td>L</td>\n",
       "      <td>298.2</td>\n",
       "      <td>308.7</td>\n",
       "      <td>1408</td>\n",
       "      <td>46.3</td>\n",
       "      <td>3</td>\n",
       "      <td>0</td>\n",
       "      <td>No Failure</td>\n",
       "    </tr>\n",
       "    <tr>\n",
       "      <th>3</th>\n",
       "      <td>L47182</td>\n",
       "      <td>L</td>\n",
       "      <td>298.1</td>\n",
       "      <td>308.5</td>\n",
       "      <td>1498</td>\n",
       "      <td>49.4</td>\n",
       "      <td>5</td>\n",
       "      <td>0</td>\n",
       "      <td>No Failure</td>\n",
       "    </tr>\n",
       "    <tr>\n",
       "      <th>4</th>\n",
       "      <td>L47183</td>\n",
       "      <td>L</td>\n",
       "      <td>298.2</td>\n",
       "      <td>308.6</td>\n",
       "      <td>1433</td>\n",
       "      <td>39.5</td>\n",
       "      <td>7</td>\n",
       "      <td>0</td>\n",
       "      <td>No Failure</td>\n",
       "    </tr>\n",
       "    <tr>\n",
       "      <th>5</th>\n",
       "      <td>L47184</td>\n",
       "      <td>L</td>\n",
       "      <td>298.2</td>\n",
       "      <td>308.7</td>\n",
       "      <td>1408</td>\n",
       "      <td>40.0</td>\n",
       "      <td>9</td>\n",
       "      <td>0</td>\n",
       "      <td>No Failure</td>\n",
       "    </tr>\n",
       "    <tr>\n",
       "      <th>6</th>\n",
       "      <td>M14865</td>\n",
       "      <td>M</td>\n",
       "      <td>298.1</td>\n",
       "      <td>308.6</td>\n",
       "      <td>1425</td>\n",
       "      <td>41.9</td>\n",
       "      <td>11</td>\n",
       "      <td>0</td>\n",
       "      <td>No Failure</td>\n",
       "    </tr>\n",
       "    <tr>\n",
       "      <th>7</th>\n",
       "      <td>L47186</td>\n",
       "      <td>L</td>\n",
       "      <td>298.1</td>\n",
       "      <td>308.6</td>\n",
       "      <td>1558</td>\n",
       "      <td>42.4</td>\n",
       "      <td>14</td>\n",
       "      <td>0</td>\n",
       "      <td>No Failure</td>\n",
       "    </tr>\n",
       "    <tr>\n",
       "      <th>8</th>\n",
       "      <td>L47187</td>\n",
       "      <td>L</td>\n",
       "      <td>298.1</td>\n",
       "      <td>308.6</td>\n",
       "      <td>1527</td>\n",
       "      <td>40.2</td>\n",
       "      <td>16</td>\n",
       "      <td>0</td>\n",
       "      <td>No Failure</td>\n",
       "    </tr>\n",
       "    <tr>\n",
       "      <th>9</th>\n",
       "      <td>M14868</td>\n",
       "      <td>M</td>\n",
       "      <td>298.3</td>\n",
       "      <td>308.7</td>\n",
       "      <td>1667</td>\n",
       "      <td>28.6</td>\n",
       "      <td>18</td>\n",
       "      <td>0</td>\n",
       "      <td>No Failure</td>\n",
       "    </tr>\n",
       "    <tr>\n",
       "      <th>10</th>\n",
       "      <td>M14869</td>\n",
       "      <td>M</td>\n",
       "      <td>298.5</td>\n",
       "      <td>309.0</td>\n",
       "      <td>1741</td>\n",
       "      <td>28.0</td>\n",
       "      <td>21</td>\n",
       "      <td>0</td>\n",
       "      <td>No Failure</td>\n",
       "    </tr>\n",
       "  </tbody>\n",
       "</table>\n",
       "</div>"
      ],
      "text/plain": [
       "    Product ID Type  Air temperature [K]  Process temperature [K]  \\\n",
       "UDI                                                                 \n",
       "1       M14860    M                298.1                    308.6   \n",
       "2       L47181    L                298.2                    308.7   \n",
       "3       L47182    L                298.1                    308.5   \n",
       "4       L47183    L                298.2                    308.6   \n",
       "5       L47184    L                298.2                    308.7   \n",
       "6       M14865    M                298.1                    308.6   \n",
       "7       L47186    L                298.1                    308.6   \n",
       "8       L47187    L                298.1                    308.6   \n",
       "9       M14868    M                298.3                    308.7   \n",
       "10      M14869    M                298.5                    309.0   \n",
       "\n",
       "     Rotational speed [rpm]  Torque [Nm]  Tool wear [min]  Target Failure Type  \n",
       "UDI                                                                             \n",
       "1                      1551         42.8                0       0   No Failure  \n",
       "2                      1408         46.3                3       0   No Failure  \n",
       "3                      1498         49.4                5       0   No Failure  \n",
       "4                      1433         39.5                7       0   No Failure  \n",
       "5                      1408         40.0                9       0   No Failure  \n",
       "6                      1425         41.9               11       0   No Failure  \n",
       "7                      1558         42.4               14       0   No Failure  \n",
       "8                      1527         40.2               16       0   No Failure  \n",
       "9                      1667         28.6               18       0   No Failure  \n",
       "10                     1741         28.0               21       0   No Failure  "
      ]
     },
     "execution_count": 4,
     "metadata": {},
     "output_type": "execute_result"
    }
   ],
   "source": [
    "df.head(10)"
   ]
  },
  {
   "cell_type": "code",
   "execution_count": 5,
   "id": "26f88473",
   "metadata": {},
   "outputs": [
    {
     "name": "stdout",
     "output_type": "stream",
     "text": [
      "<class 'pandas.core.frame.DataFrame'>\n",
      "Int64Index: 10000 entries, 1 to 10000\n",
      "Data columns (total 9 columns):\n",
      " #   Column                   Non-Null Count  Dtype  \n",
      "---  ------                   --------------  -----  \n",
      " 0   Product ID               10000 non-null  object \n",
      " 1   Type                     10000 non-null  object \n",
      " 2   Air temperature [K]      10000 non-null  float64\n",
      " 3   Process temperature [K]  10000 non-null  float64\n",
      " 4   Rotational speed [rpm]   10000 non-null  int64  \n",
      " 5   Torque [Nm]              10000 non-null  float64\n",
      " 6   Tool wear [min]          10000 non-null  int64  \n",
      " 7   Target                   10000 non-null  int64  \n",
      " 8   Failure Type             10000 non-null  object \n",
      "dtypes: float64(3), int64(3), object(3)\n",
      "memory usage: 781.2+ KB\n"
     ]
    }
   ],
   "source": [
    "df.info()"
   ]
  },
  {
   "cell_type": "code",
   "execution_count": 6,
   "id": "bdd8d368",
   "metadata": {},
   "outputs": [
    {
     "data": {
      "text/html": [
       "<div>\n",
       "<style scoped>\n",
       "    .dataframe tbody tr th:only-of-type {\n",
       "        vertical-align: middle;\n",
       "    }\n",
       "\n",
       "    .dataframe tbody tr th {\n",
       "        vertical-align: top;\n",
       "    }\n",
       "\n",
       "    .dataframe thead th {\n",
       "        text-align: right;\n",
       "    }\n",
       "</style>\n",
       "<table border=\"1\" class=\"dataframe\">\n",
       "  <thead>\n",
       "    <tr style=\"text-align: right;\">\n",
       "      <th></th>\n",
       "      <th>Air temperature [K]</th>\n",
       "      <th>Process temperature [K]</th>\n",
       "      <th>Rotational speed [rpm]</th>\n",
       "      <th>Torque [Nm]</th>\n",
       "      <th>Tool wear [min]</th>\n",
       "      <th>Target</th>\n",
       "    </tr>\n",
       "  </thead>\n",
       "  <tbody>\n",
       "    <tr>\n",
       "      <th>count</th>\n",
       "      <td>10000.000000</td>\n",
       "      <td>10000.000000</td>\n",
       "      <td>10000.000000</td>\n",
       "      <td>10000.000000</td>\n",
       "      <td>10000.000000</td>\n",
       "      <td>10000.000000</td>\n",
       "    </tr>\n",
       "    <tr>\n",
       "      <th>mean</th>\n",
       "      <td>300.004930</td>\n",
       "      <td>310.005560</td>\n",
       "      <td>1538.776100</td>\n",
       "      <td>39.986910</td>\n",
       "      <td>107.951000</td>\n",
       "      <td>0.033900</td>\n",
       "    </tr>\n",
       "    <tr>\n",
       "      <th>std</th>\n",
       "      <td>2.000259</td>\n",
       "      <td>1.483734</td>\n",
       "      <td>179.284096</td>\n",
       "      <td>9.968934</td>\n",
       "      <td>63.654147</td>\n",
       "      <td>0.180981</td>\n",
       "    </tr>\n",
       "    <tr>\n",
       "      <th>min</th>\n",
       "      <td>295.300000</td>\n",
       "      <td>305.700000</td>\n",
       "      <td>1168.000000</td>\n",
       "      <td>3.800000</td>\n",
       "      <td>0.000000</td>\n",
       "      <td>0.000000</td>\n",
       "    </tr>\n",
       "    <tr>\n",
       "      <th>25%</th>\n",
       "      <td>298.300000</td>\n",
       "      <td>308.800000</td>\n",
       "      <td>1423.000000</td>\n",
       "      <td>33.200000</td>\n",
       "      <td>53.000000</td>\n",
       "      <td>0.000000</td>\n",
       "    </tr>\n",
       "    <tr>\n",
       "      <th>50%</th>\n",
       "      <td>300.100000</td>\n",
       "      <td>310.100000</td>\n",
       "      <td>1503.000000</td>\n",
       "      <td>40.100000</td>\n",
       "      <td>108.000000</td>\n",
       "      <td>0.000000</td>\n",
       "    </tr>\n",
       "    <tr>\n",
       "      <th>75%</th>\n",
       "      <td>301.500000</td>\n",
       "      <td>311.100000</td>\n",
       "      <td>1612.000000</td>\n",
       "      <td>46.800000</td>\n",
       "      <td>162.000000</td>\n",
       "      <td>0.000000</td>\n",
       "    </tr>\n",
       "    <tr>\n",
       "      <th>max</th>\n",
       "      <td>304.500000</td>\n",
       "      <td>313.800000</td>\n",
       "      <td>2886.000000</td>\n",
       "      <td>76.600000</td>\n",
       "      <td>253.000000</td>\n",
       "      <td>1.000000</td>\n",
       "    </tr>\n",
       "  </tbody>\n",
       "</table>\n",
       "</div>"
      ],
      "text/plain": [
       "       Air temperature [K]  Process temperature [K]  Rotational speed [rpm]  \\\n",
       "count         10000.000000             10000.000000            10000.000000   \n",
       "mean            300.004930               310.005560             1538.776100   \n",
       "std               2.000259                 1.483734              179.284096   \n",
       "min             295.300000               305.700000             1168.000000   \n",
       "25%             298.300000               308.800000             1423.000000   \n",
       "50%             300.100000               310.100000             1503.000000   \n",
       "75%             301.500000               311.100000             1612.000000   \n",
       "max             304.500000               313.800000             2886.000000   \n",
       "\n",
       "        Torque [Nm]  Tool wear [min]        Target  \n",
       "count  10000.000000     10000.000000  10000.000000  \n",
       "mean      39.986910       107.951000      0.033900  \n",
       "std        9.968934        63.654147      0.180981  \n",
       "min        3.800000         0.000000      0.000000  \n",
       "25%       33.200000        53.000000      0.000000  \n",
       "50%       40.100000       108.000000      0.000000  \n",
       "75%       46.800000       162.000000      0.000000  \n",
       "max       76.600000       253.000000      1.000000  "
      ]
     },
     "execution_count": 6,
     "metadata": {},
     "output_type": "execute_result"
    }
   ],
   "source": [
    "df.describe()"
   ]
  },
  {
   "cell_type": "code",
   "execution_count": 7,
   "id": "1dd1cfd3",
   "metadata": {
    "scrolled": false
   },
   "outputs": [
    {
     "data": {
      "image/png": "[encoded data removed]",
      "text/plain": [
       "<Figure size 640x480 with 1 Axes>"
      ]
     },
     "metadata": {},
     "output_type": "display_data"
    }
   ],
   "source": [
    "plt.boxplot(df.select_dtypes(include=['float64','int64']),labels=df.select_dtypes(include=['float64','int64']).columns)\n",
    "plt.title('Boxplot of continuous variables')\n",
    "plt.xticks(rotation=45);"
   ]
  },
  {
   "cell_type": "code",
   "execution_count": 8,
   "id": "6c6cfcfc",
   "metadata": {},
   "outputs": [
    {
     "data": {
      "text/plain": [
       "array(['No Failure', 'Power Failure', 'Tool Wear Failure',\n",
       "       'Overstrain Failure', 'Random Failures',\n",
       "       'Heat Dissipation Failure'], dtype=object)"
      ]
     },
     "execution_count": 8,
     "metadata": {},
     "output_type": "execute_result"
    }
   ],
   "source": [
    "df['Failure Type'].unique()"
   ]
  },
  {
   "cell_type": "code",
   "execution_count": 9,
   "id": "d3890de3",
   "metadata": {},
   "outputs": [
    {
     "data": {
      "image/png": "[encoded data removed]",
      "text/plain": [
       "<Figure size 640x480 with 1 Axes>"
      ]
     },
     "metadata": {},
     "output_type": "display_data"
    }
   ],
   "source": [
    "sns.countplot(x='Failure Type',data=df[df['Target']==1])\n",
    "plt.title('Failure type count')\n",
    "plt.xticks(rotation=45);"
   ]
  },
  {
   "cell_type": "code",
   "execution_count": 10,
   "id": "d7f9b74e",
   "metadata": {},
   "outputs": [
    {
     "data": {
      "text/plain": [
       "No Failure                  0.9652\n",
       "Heat Dissipation Failure    0.0112\n",
       "Power Failure               0.0095\n",
       "Overstrain Failure          0.0078\n",
       "Tool Wear Failure           0.0045\n",
       "Random Failures             0.0018\n",
       "Name: Failure Type, dtype: float64"
      ]
     },
     "execution_count": 10,
     "metadata": {},
     "output_type": "execute_result"
    }
   ],
   "source": [
    "df['Failure Type'].value_counts(normalize=True)"
   ]
  },
  {
   "cell_type": "code",
   "execution_count": 11,
   "id": "4330b032",
   "metadata": {},
   "outputs": [
    {
     "name": "stdout",
     "output_type": "stream",
     "text": [
      "Amount of failures: 339\n"
     ]
    }
   ],
   "source": [
    "print('Amount of failures: {}'.format(df['Target'].sum()))"
   ]
  },
  {
   "cell_type": "code",
   "execution_count": 12,
   "id": "e2dce6b7",
   "metadata": {},
   "outputs": [
    {
     "name": "stdout",
     "output_type": "stream",
     "text": [
      "Failed to non failed ratio: 3.39%\n"
     ]
    }
   ],
   "source": [
    "print('Failed to non failed ratio: {}%'.format(100*df['Target'].sum()/df.shape[0]))"
   ]
  },
  {
   "cell_type": "code",
   "execution_count": 13,
   "id": "059255b1",
   "metadata": {
    "scrolled": true
   },
   "outputs": [
    {
     "data": {
      "text/plain": [
       "L    6000\n",
       "M    2997\n",
       "H    1003\n",
       "Name: Type, dtype: int64"
      ]
     },
     "execution_count": 13,
     "metadata": {},
     "output_type": "execute_result"
    }
   ],
   "source": [
    "df['Type'].value_counts()"
   ]
  },
  {
   "cell_type": "code",
   "execution_count": 14,
   "id": "5435a3be",
   "metadata": {
    "scrolled": false
   },
   "outputs": [
    {
     "data": {
      "text/plain": [
       "<AxesSubplot:xlabel='UDI'>"
      ]
     },
     "execution_count": 14,
     "metadata": {},
     "output_type": "execute_result"
    },
    {
     "data": {
      "image/png": "[encoded data removed]",
      "text/plain": [
       "<Figure size 640x480 with 1 Axes>"
      ]
     },
     "metadata": {},
     "output_type": "display_data"
    }
   ],
   "source": [
    "df[df['Type']=='L']['Rotational speed [rpm]'].plot()"
   ]
  },
  {
   "cell_type": "code",
   "execution_count": 15,
   "id": "86d22c4f",
   "metadata": {},
   "outputs": [
    {
     "data": {
      "image/png": "[encoded data removed]",
      "text/plain": [
       "<Figure size 600x600 with 2 Axes>"
      ]
     },
     "metadata": {},
     "output_type": "display_data"
    }
   ],
   "source": [
    "plt.figure(figsize=(6,6))\n",
    "sns.heatmap(df.join(pd.get_dummies(df['Type'],prefix='Type')).corr(),annot=True)\n",
    "plt.title('Correlation Heatmap between Features and Target');"
   ]
  },
  {
   "cell_type": "markdown",
   "id": "11b74ca2",
   "metadata": {},
   "source": [
    "# __Step 3:__ \n",
    "Features and Target Preparation"
   ]
  },
  {
   "cell_type": "code",
   "execution_count": 16,
   "id": "8f116545",
   "metadata": {},
   "outputs": [],
   "source": [
    "# Splitting of Dataframe into X and y1,y2\n",
    "X=df.drop(['Target','Failure Type'],axis=1)\n",
    "y1=df['Target']"
   ]
  },
  {
   "cell_type": "code",
   "execution_count": 17,
   "id": "65e29fdd",
   "metadata": {},
   "outputs": [],
   "source": [
    "# One-Hot encoding of feature 'Type' + StandardScaling of all features\n",
    "X=X.join(pd.get_dummies(X['Type'],prefix='Type'))\n",
    "X.drop(['Type','Product ID'],axis=1,inplace=True)\n",
    "\n",
    "#Scaling\n",
    "scaler=StandardScaler()\n",
    "X_scaled=scaler.fit_transform(X)"
   ]
  },
  {
   "cell_type": "code",
   "execution_count": 18,
   "id": "b5626195",
   "metadata": {},
   "outputs": [
    {
     "data": {
      "text/plain": [
       "array([[-0.95238944, -0.94735989,  0.06818514, ..., -0.33388861,\n",
       "        -1.22474487,  1.52861702],\n",
       "       [-0.90239341, -0.879959  , -0.72947151, ..., -0.33388861,\n",
       "         0.81649658, -0.65418609],\n",
       "       [-0.95238944, -1.01476077, -0.22744984, ..., -0.33388861,\n",
       "         0.81649658, -0.65418609],\n",
       "       ...,\n",
       "       [-0.50242514, -0.94735989,  0.59251888, ..., -0.33388861,\n",
       "        -1.22474487,  1.52861702],\n",
       "       [-0.50242514, -0.879959  , -0.72947151, ...,  2.99501081,\n",
       "        -1.22474487, -0.65418609],\n",
       "       [-0.50242514, -0.879959  , -0.2162938 , ..., -0.33388861,\n",
       "        -1.22474487,  1.52861702]])"
      ]
     },
     "metadata": {},
     "output_type": "display_data"
    }
   ],
   "source": [
    "display(X_scaled)"
   ]
  },
  {
   "cell_type": "code",
   "execution_count": 19,
   "id": "25a3309f",
   "metadata": {},
   "outputs": [
    {
     "data": {
      "text/plain": [
       "UDI\n",
       "1        0\n",
       "2        0\n",
       "3        0\n",
       "4        0\n",
       "5        0\n",
       "        ..\n",
       "9996     0\n",
       "9997     0\n",
       "9998     0\n",
       "9999     0\n",
       "10000    0\n",
       "Name: Target, Length: 10000, dtype: int64"
      ]
     },
     "metadata": {},
     "output_type": "display_data"
    }
   ],
   "source": [
    "display(y1)"
   ]
  },
  {
   "cell_type": "code",
   "execution_count": 20,
   "id": "af5329ae",
   "metadata": {},
   "outputs": [
    {
     "data": {
      "text/html": [
       "<div>\n",
       "<style scoped>\n",
       "    .dataframe tbody tr th:only-of-type {\n",
       "        vertical-align: middle;\n",
       "    }\n",
       "\n",
       "    .dataframe tbody tr th {\n",
       "        vertical-align: top;\n",
       "    }\n",
       "\n",
       "    .dataframe thead th {\n",
       "        text-align: right;\n",
       "    }\n",
       "</style>\n",
       "<table border=\"1\" class=\"dataframe\">\n",
       "  <thead>\n",
       "    <tr style=\"text-align: right;\">\n",
       "      <th></th>\n",
       "      <th>F-Type_Heat Dissipation Failure</th>\n",
       "      <th>F-Type_No Failure</th>\n",
       "      <th>F-Type_Overstrain Failure</th>\n",
       "      <th>F-Type_Power Failure</th>\n",
       "      <th>F-Type_Random Failures</th>\n",
       "      <th>F-Type_Tool Wear Failure</th>\n",
       "    </tr>\n",
       "    <tr>\n",
       "      <th>UDI</th>\n",
       "      <th></th>\n",
       "      <th></th>\n",
       "      <th></th>\n",
       "      <th></th>\n",
       "      <th></th>\n",
       "      <th></th>\n",
       "    </tr>\n",
       "  </thead>\n",
       "  <tbody>\n",
       "    <tr>\n",
       "      <th>1</th>\n",
       "      <td>0</td>\n",
       "      <td>1</td>\n",
       "      <td>0</td>\n",
       "      <td>0</td>\n",
       "      <td>0</td>\n",
       "      <td>0</td>\n",
       "    </tr>\n",
       "    <tr>\n",
       "      <th>2</th>\n",
       "      <td>0</td>\n",
       "      <td>1</td>\n",
       "      <td>0</td>\n",
       "      <td>0</td>\n",
       "      <td>0</td>\n",
       "      <td>0</td>\n",
       "    </tr>\n",
       "    <tr>\n",
       "      <th>3</th>\n",
       "      <td>0</td>\n",
       "      <td>1</td>\n",
       "      <td>0</td>\n",
       "      <td>0</td>\n",
       "      <td>0</td>\n",
       "      <td>0</td>\n",
       "    </tr>\n",
       "    <tr>\n",
       "      <th>4</th>\n",
       "      <td>0</td>\n",
       "      <td>1</td>\n",
       "      <td>0</td>\n",
       "      <td>0</td>\n",
       "      <td>0</td>\n",
       "      <td>0</td>\n",
       "    </tr>\n",
       "    <tr>\n",
       "      <th>5</th>\n",
       "      <td>0</td>\n",
       "      <td>1</td>\n",
       "      <td>0</td>\n",
       "      <td>0</td>\n",
       "      <td>0</td>\n",
       "      <td>0</td>\n",
       "    </tr>\n",
       "    <tr>\n",
       "      <th>...</th>\n",
       "      <td>...</td>\n",
       "      <td>...</td>\n",
       "      <td>...</td>\n",
       "      <td>...</td>\n",
       "      <td>...</td>\n",
       "      <td>...</td>\n",
       "    </tr>\n",
       "    <tr>\n",
       "      <th>9996</th>\n",
       "      <td>0</td>\n",
       "      <td>1</td>\n",
       "      <td>0</td>\n",
       "      <td>0</td>\n",
       "      <td>0</td>\n",
       "      <td>0</td>\n",
       "    </tr>\n",
       "    <tr>\n",
       "      <th>9997</th>\n",
       "      <td>0</td>\n",
       "      <td>1</td>\n",
       "      <td>0</td>\n",
       "      <td>0</td>\n",
       "      <td>0</td>\n",
       "      <td>0</td>\n",
       "    </tr>\n",
       "    <tr>\n",
       "      <th>9998</th>\n",
       "      <td>0</td>\n",
       "      <td>1</td>\n",
       "      <td>0</td>\n",
       "      <td>0</td>\n",
       "      <td>0</td>\n",
       "      <td>0</td>\n",
       "    </tr>\n",
       "    <tr>\n",
       "      <th>9999</th>\n",
       "      <td>0</td>\n",
       "      <td>1</td>\n",
       "      <td>0</td>\n",
       "      <td>0</td>\n",
       "      <td>0</td>\n",
       "      <td>0</td>\n",
       "    </tr>\n",
       "    <tr>\n",
       "      <th>10000</th>\n",
       "      <td>0</td>\n",
       "      <td>1</td>\n",
       "      <td>0</td>\n",
       "      <td>0</td>\n",
       "      <td>0</td>\n",
       "      <td>0</td>\n",
       "    </tr>\n",
       "  </tbody>\n",
       "</table>\n",
       "<p>10000 rows × 6 columns</p>\n",
       "</div>"
      ],
      "text/plain": [
       "       F-Type_Heat Dissipation Failure  F-Type_No Failure  \\\n",
       "UDI                                                         \n",
       "1                                    0                  1   \n",
       "2                                    0                  1   \n",
       "3                                    0                  1   \n",
       "4                                    0                  1   \n",
       "5                                    0                  1   \n",
       "...                                ...                ...   \n",
       "9996                                 0                  1   \n",
       "9997                                 0                  1   \n",
       "9998                                 0                  1   \n",
       "9999                                 0                  1   \n",
       "10000                                0                  1   \n",
       "\n",
       "       F-Type_Overstrain Failure  F-Type_Power Failure  \\\n",
       "UDI                                                      \n",
       "1                              0                     0   \n",
       "2                              0                     0   \n",
       "3                              0                     0   \n",
       "4                              0                     0   \n",
       "5                              0                     0   \n",
       "...                          ...                   ...   \n",
       "9996                           0                     0   \n",
       "9997                           0                     0   \n",
       "9998                           0                     0   \n",
       "9999                           0                     0   \n",
       "10000                          0                     0   \n",
       "\n",
       "       F-Type_Random Failures  F-Type_Tool Wear Failure  \n",
       "UDI                                                      \n",
       "1                           0                         0  \n",
       "2                           0                         0  \n",
       "3                           0                         0  \n",
       "4                           0                         0  \n",
       "5                           0                         0  \n",
       "...                       ...                       ...  \n",
       "9996                        0                         0  \n",
       "9997                        0                         0  \n",
       "9998                        0                         0  \n",
       "9999                        0                         0  \n",
       "10000                       0                         0  \n",
       "\n",
       "[10000 rows x 6 columns]"
      ]
     },
     "metadata": {},
     "output_type": "display_data"
    }
   ],
   "source": [
    "# One-Hot encoding of target 'Failure Type'\n",
    "y2=pd.get_dummies(df['Failure Type'],prefix='F-Type')\n",
    "#y2.drop('Failure Type',axis=1,inplace=True)\n",
    "display(y2)"
   ]
  },
  {
   "cell_type": "markdown",
   "id": "a00123eb",
   "metadata": {},
   "source": [
    "# __Step 4:__ \n",
    "Setting up and validating several classifiers"
   ]
  },
  {
   "cell_type": "code",
   "execution_count": 21,
   "id": "de0cf97f",
   "metadata": {},
   "outputs": [],
   "source": [
    "# Train Test Split\n",
    "X_train, X_test, y_train, y_test = train_test_split(X,y1,test_size=0.2,random_state=123)\n",
    "\n",
    "# Stratified KFold\n",
    "cv = RepeatedStratifiedKFold(n_splits=5, n_repeats=3, random_state=1)"
   ]
  },
  {
   "cell_type": "code",
   "execution_count": 43,
   "id": "b695d2af",
   "metadata": {
    "scrolled": false
   },
   "outputs": [
    {
     "name": "stdout",
     "output_type": "stream",
     "text": [
      "Train Accuracy: 0.321 | Score: 0.0202\n",
      "  Val Accuracy: 0.293 | Score: 0.0564\n"
     ]
    }
   ],
   "source": [
    "# Classifiers with Grid Search\n",
    "\n",
    "# Results\n",
    "results=pd.DataFrame()\n",
    "\n",
    "# Timestamp\n",
    "timestamp=datetime.now().strftime('%Y%m%d_%H%M%S')\n",
    "\n",
    "# Algo Setup\n",
    "knn=KNeighborsClassifier(n_neighbors=10, metric='manhattan', weights='uniform')\n",
    "\n",
    "cv_result=cross_validate(knn, X, y1, scoring='f1', cv=cv, return_train_score=True, n_jobs=-1)\n",
    "\n",
    "print('Train Accuracy: %.3f | Score: %.4f' % (cv_result['train_score'].mean(),cv_result['train_score'].std()))\n",
    "print('  Val Accuracy: %.3f | Score: %.4f' % (cv_result['test_score'].mean(),cv_result['test_score'].std()))"
   ]
  },
  {
   "cell_type": "code",
   "execution_count": 44,
   "id": "2f1a54bd",
   "metadata": {},
   "outputs": [
    {
     "data": {
      "text/html": [
       "<div>\n",
       "<style scoped>\n",
       "    .dataframe tbody tr th:only-of-type {\n",
       "        vertical-align: middle;\n",
       "    }\n",
       "\n",
       "    .dataframe tbody tr th {\n",
       "        vertical-align: top;\n",
       "    }\n",
       "\n",
       "    .dataframe thead th {\n",
       "        text-align: right;\n",
       "    }\n",
       "</style>\n",
       "<table border=\"1\" class=\"dataframe\">\n",
       "  <thead>\n",
       "    <tr style=\"text-align: right;\">\n",
       "      <th>Prediction</th>\n",
       "      <th>0</th>\n",
       "      <th>1</th>\n",
       "    </tr>\n",
       "    <tr>\n",
       "      <th>Reality</th>\n",
       "      <th></th>\n",
       "      <th></th>\n",
       "    </tr>\n",
       "  </thead>\n",
       "  <tbody>\n",
       "    <tr>\n",
       "      <th>0</th>\n",
       "      <td>9652</td>\n",
       "      <td>9</td>\n",
       "    </tr>\n",
       "    <tr>\n",
       "      <th>1</th>\n",
       "      <td>283</td>\n",
       "      <td>56</td>\n",
       "    </tr>\n",
       "  </tbody>\n",
       "</table>\n",
       "</div>"
      ],
      "text/plain": [
       "Prediction     0   1\n",
       "Reality             \n",
       "0           9652   9\n",
       "1            283  56"
      ]
     },
     "metadata": {},
     "output_type": "display_data"
    },
    {
     "name": "stdout",
     "output_type": "stream",
     "text": [
      "              precision    recall  f1-score   support\n",
      "\n",
      "           0       0.97      1.00      0.99      9661\n",
      "           1       0.86      0.17      0.28       339\n",
      "\n",
      "    accuracy                           0.97     10000\n",
      "   macro avg       0.92      0.58      0.63     10000\n",
      "weighted avg       0.97      0.97      0.96     10000\n",
      "\n"
     ]
    }
   ],
   "source": [
    "y_pred=cross_val_predict(knn, X, y1, cv=5, n_jobs=-1)\n",
    "display(pd.crosstab(y1,y_pred,rownames=['Reality'],colnames=['Prediction']))\n",
    "print(classification_report(y1,y_pred))"
   ]
  },
  {
   "cell_type": "code",
   "execution_count": 45,
   "id": "6a51e5ef",
   "metadata": {},
   "outputs": [
    {
     "data": {
      "text/html": [
       "<div>\n",
       "<style scoped>\n",
       "    .dataframe tbody tr th:only-of-type {\n",
       "        vertical-align: middle;\n",
       "    }\n",
       "\n",
       "    .dataframe tbody tr th {\n",
       "        vertical-align: top;\n",
       "    }\n",
       "\n",
       "    .dataframe thead th {\n",
       "        text-align: right;\n",
       "    }\n",
       "</style>\n",
       "<table border=\"1\" class=\"dataframe\">\n",
       "  <thead>\n",
       "    <tr style=\"text-align: right;\">\n",
       "      <th>Prediction</th>\n",
       "      <th>0</th>\n",
       "      <th>1</th>\n",
       "    </tr>\n",
       "    <tr>\n",
       "      <th>Reality</th>\n",
       "      <th></th>\n",
       "      <th></th>\n",
       "    </tr>\n",
       "  </thead>\n",
       "  <tbody>\n",
       "    <tr>\n",
       "      <th>0</th>\n",
       "      <td>1923</td>\n",
       "      <td>1</td>\n",
       "    </tr>\n",
       "    <tr>\n",
       "      <th>1</th>\n",
       "      <td>63</td>\n",
       "      <td>13</td>\n",
       "    </tr>\n",
       "  </tbody>\n",
       "</table>\n",
       "</div>"
      ],
      "text/plain": [
       "Prediction     0   1\n",
       "Reality             \n",
       "0           1923   1\n",
       "1             63  13"
      ]
     },
     "metadata": {},
     "output_type": "display_data"
    },
    {
     "name": "stdout",
     "output_type": "stream",
     "text": [
      "              precision    recall  f1-score   support\n",
      "\n",
      "           0       0.97      1.00      0.98      1924\n",
      "           1       0.93      0.17      0.29        76\n",
      "\n",
      "    accuracy                           0.97      2000\n",
      "   macro avg       0.95      0.59      0.64      2000\n",
      "weighted avg       0.97      0.97      0.96      2000\n",
      "\n"
     ]
    }
   ],
   "source": [
    "knn.fit(X_train,y_train)\n",
    "y_pred=knn.predict(X_test)\n",
    "display(pd.crosstab(y_test,y_pred,rownames=['Reality'],colnames=['Prediction']))\n",
    "print(classification_report(y_test,y_pred))"
   ]
  },
  {
   "cell_type": "markdown",
   "id": "f43b822e",
   "metadata": {},
   "source": [
    "Recall for failure (1) is very bad, probably due to under-representation of failure cases"
   ]
  },
  {
   "cell_type": "code",
   "execution_count": 46,
   "id": "b290a576",
   "metadata": {},
   "outputs": [],
   "source": [
    "from imblearn.over_sampling import RandomOverSampler\n",
    "ro=RandomOverSampler()\n",
    "X_train_ro,y_train_ro=ro.fit_resample(X_train,y_train)"
   ]
  },
  {
   "cell_type": "code",
   "execution_count": 47,
   "id": "94540bfd",
   "metadata": {
    "scrolled": true
   },
   "outputs": [
    {
     "data": {
      "text/plain": [
       "KNeighborsClassifier(metric='manhattan', n_neighbors=10)"
      ]
     },
     "execution_count": 47,
     "metadata": {},
     "output_type": "execute_result"
    }
   ],
   "source": [
    "knn.fit(X_train_ro,y_train_ro)"
   ]
  },
  {
   "cell_type": "code",
   "execution_count": 48,
   "id": "334660c6",
   "metadata": {},
   "outputs": [
    {
     "data": {
      "text/html": [
       "<div>\n",
       "<style scoped>\n",
       "    .dataframe tbody tr th:only-of-type {\n",
       "        vertical-align: middle;\n",
       "    }\n",
       "\n",
       "    .dataframe tbody tr th {\n",
       "        vertical-align: top;\n",
       "    }\n",
       "\n",
       "    .dataframe thead th {\n",
       "        text-align: right;\n",
       "    }\n",
       "</style>\n",
       "<table border=\"1\" class=\"dataframe\">\n",
       "  <thead>\n",
       "    <tr style=\"text-align: right;\">\n",
       "      <th>Prediction</th>\n",
       "      <th>0</th>\n",
       "      <th>1</th>\n",
       "    </tr>\n",
       "    <tr>\n",
       "      <th>Reality</th>\n",
       "      <th></th>\n",
       "      <th></th>\n",
       "    </tr>\n",
       "  </thead>\n",
       "  <tbody>\n",
       "    <tr>\n",
       "      <th>0</th>\n",
       "      <td>1769</td>\n",
       "      <td>155</td>\n",
       "    </tr>\n",
       "    <tr>\n",
       "      <th>1</th>\n",
       "      <td>31</td>\n",
       "      <td>45</td>\n",
       "    </tr>\n",
       "  </tbody>\n",
       "</table>\n",
       "</div>"
      ],
      "text/plain": [
       "Prediction     0    1\n",
       "Reality              \n",
       "0           1769  155\n",
       "1             31   45"
      ]
     },
     "metadata": {},
     "output_type": "display_data"
    },
    {
     "name": "stdout",
     "output_type": "stream",
     "text": [
      "              precision    recall  f1-score   support\n",
      "\n",
      "           0       0.98      0.92      0.95      1924\n",
      "           1       0.23      0.59      0.33        76\n",
      "\n",
      "    accuracy                           0.91      2000\n",
      "   macro avg       0.60      0.76      0.64      2000\n",
      "weighted avg       0.95      0.91      0.93      2000\n",
      "\n"
     ]
    }
   ],
   "source": [
    "y_pred=knn.predict(X_test)\n",
    "display(pd.crosstab(y_test,y_pred,rownames=['Reality'],colnames=['Prediction']))\n",
    "print(classification_report(y_test,y_pred))"
   ]
  },
  {
   "cell_type": "code",
   "execution_count": 71,
   "id": "173d5190",
   "metadata": {},
   "outputs": [
    {
     "name": "stdout",
     "output_type": "stream",
     "text": [
      "02.03.2023 10:54:25\n",
      "Fitting 5 folds for each of 78 candidates, totalling 390 fits\n",
      "02.03.2023 10:54:27\n",
      "{'metric': 'euclidean', 'n_neighbors': 1, 'weights': 'uniform'}\n",
      "0.9882511083853762\n"
     ]
    }
   ],
   "source": [
    "knn=KNeighborsClassifier()\n",
    "n_neighbors=[1,2,3,4,5,7,9,11,13,15,17,19,21]\n",
    "metric=['euclidean','manhattan','minkowski']\n",
    "weights=['uniform','distance']\n",
    "parameters=dict(n_neighbors=n_neighbors,metric=metric,weights=weights)\n",
    "\n",
    "timestamp=datetime.now().strftime('%d.%m.%Y %H:%M:%S')\n",
    "print(timestamp)\n",
    "grid=GridSearchCV(estimator=knn,param_grid=parameters,n_jobs=-1,cv=5,scoring='f1',error_score=0,verbose=3)\n",
    "grid.fit(X_train_ro,y_train_ro)\n",
    "timestamp=datetime.now().strftime('%d.%m.%Y %H:%M:%S')\n",
    "print(timestamp)\n",
    "print(grid.best_params_)\n",
    "print(grid.best_score_)"
   ]
  },
  {
   "cell_type": "code",
   "execution_count": 72,
   "id": "05e2bddb",
   "metadata": {},
   "outputs": [
    {
     "data": {
      "text/html": [
       "<div>\n",
       "<style scoped>\n",
       "    .dataframe tbody tr th:only-of-type {\n",
       "        vertical-align: middle;\n",
       "    }\n",
       "\n",
       "    .dataframe tbody tr th {\n",
       "        vertical-align: top;\n",
       "    }\n",
       "\n",
       "    .dataframe thead th {\n",
       "        text-align: right;\n",
       "    }\n",
       "</style>\n",
       "<table border=\"1\" class=\"dataframe\">\n",
       "  <thead>\n",
       "    <tr style=\"text-align: right;\">\n",
       "      <th>Prediction</th>\n",
       "      <th>0</th>\n",
       "      <th>1</th>\n",
       "    </tr>\n",
       "    <tr>\n",
       "      <th>Reality</th>\n",
       "      <th></th>\n",
       "      <th></th>\n",
       "    </tr>\n",
       "  </thead>\n",
       "  <tbody>\n",
       "    <tr>\n",
       "      <th>0</th>\n",
       "      <td>1881</td>\n",
       "      <td>43</td>\n",
       "    </tr>\n",
       "    <tr>\n",
       "      <th>1</th>\n",
       "      <td>55</td>\n",
       "      <td>21</td>\n",
       "    </tr>\n",
       "  </tbody>\n",
       "</table>\n",
       "</div>"
      ],
      "text/plain": [
       "Prediction     0   1\n",
       "Reality             \n",
       "0           1881  43\n",
       "1             55  21"
      ]
     },
     "metadata": {},
     "output_type": "display_data"
    },
    {
     "name": "stdout",
     "output_type": "stream",
     "text": [
      "              precision    recall  f1-score   support\n",
      "\n",
      "           0       0.97      0.98      0.97      1924\n",
      "           1       0.33      0.28      0.30        76\n",
      "\n",
      "    accuracy                           0.95      2000\n",
      "   macro avg       0.65      0.63      0.64      2000\n",
      "weighted avg       0.95      0.95      0.95      2000\n",
      "\n"
     ]
    }
   ],
   "source": [
    "y_pred=grid.predict(X_test)\n",
    "display(pd.crosstab(y_test,y_pred,rownames=['Reality'],colnames=['Prediction']))\n",
    "print(classification_report(y_test,y_pred))"
   ]
  },
  {
   "cell_type": "code",
   "execution_count": 74,
   "id": "5e78ccc1",
   "metadata": {
    "scrolled": true
   },
   "outputs": [
    {
     "name": "stdout",
     "output_type": "stream",
     "text": [
      "02.03.2023 10:54:39\n",
      "Fitting 5 folds for each of 24 candidates, totalling 120 fits\n",
      "02.03.2023 10:55:00\n",
      "{'max_features': 'log2', 'n_estimators': 10}\n",
      "0.9976795798277234\n"
     ]
    },
    {
     "name": "stderr",
     "output_type": "stream",
     "text": [
      "C:\\Users\\tkessel\\Anaconda3\\lib\\site-packages\\sklearn\\model_selection\\_validation.py:372: FitFailedWarning: \n",
      "40 fits failed out of a total of 120.\n",
      "The score on these train-test partitions for these parameters will be set to 0.\n",
      "If these failures are not expected, you can try to debug them by setting error_score='raise'.\n",
      "\n",
      "Below are more details about the failures:\n",
      "--------------------------------------------------------------------------------\n",
      "40 fits failed with the following error:\n",
      "Traceback (most recent call last):\n",
      "  File \"C:\\Users\\tkessel\\Anaconda3\\lib\\site-packages\\sklearn\\model_selection\\_validation.py\", line 680, in _fit_and_score\n",
      "    estimator.fit(X_train, y_train, **fit_params)\n",
      "  File \"C:\\Users\\tkessel\\Anaconda3\\lib\\site-packages\\sklearn\\ensemble\\_forest.py\", line 450, in fit\n",
      "    trees = Parallel(\n",
      "  File \"C:\\Users\\tkessel\\Anaconda3\\lib\\site-packages\\joblib\\parallel.py\", line 1085, in __call__\n",
      "    if self.dispatch_one_batch(iterator):\n",
      "  File \"C:\\Users\\tkessel\\Anaconda3\\lib\\site-packages\\joblib\\parallel.py\", line 901, in dispatch_one_batch\n",
      "    self._dispatch(tasks)\n",
      "  File \"C:\\Users\\tkessel\\Anaconda3\\lib\\site-packages\\joblib\\parallel.py\", line 819, in _dispatch\n",
      "    job = self._backend.apply_async(batch, callback=cb)\n",
      "  File \"C:\\Users\\tkessel\\Anaconda3\\lib\\site-packages\\joblib\\_parallel_backends.py\", line 208, in apply_async\n",
      "    result = ImmediateResult(func)\n",
      "  File \"C:\\Users\\tkessel\\Anaconda3\\lib\\site-packages\\joblib\\_parallel_backends.py\", line 597, in __init__\n",
      "    self.results = batch()\n",
      "  File \"C:\\Users\\tkessel\\Anaconda3\\lib\\site-packages\\joblib\\parallel.py\", line 288, in __call__\n",
      "    return [func(*args, **kwargs)\n",
      "  File \"C:\\Users\\tkessel\\Anaconda3\\lib\\site-packages\\joblib\\parallel.py\", line 288, in <listcomp>\n",
      "    return [func(*args, **kwargs)\n",
      "  File \"C:\\Users\\tkessel\\Anaconda3\\lib\\site-packages\\sklearn\\utils\\fixes.py\", line 216, in __call__\n",
      "    return self.function(*args, **kwargs)\n",
      "  File \"C:\\Users\\tkessel\\Anaconda3\\lib\\site-packages\\sklearn\\ensemble\\_forest.py\", line 185, in _parallel_build_trees\n",
      "    tree.fit(X, y, sample_weight=curr_sample_weight, check_input=False)\n",
      "  File \"C:\\Users\\tkessel\\Anaconda3\\lib\\site-packages\\sklearn\\tree\\_classes.py\", line 937, in fit\n",
      "    super().fit(\n",
      "  File \"C:\\Users\\tkessel\\Anaconda3\\lib\\site-packages\\sklearn\\tree\\_classes.py\", line 308, in fit\n",
      "    raise ValueError(\"max_features must be in (0, n_features]\")\n",
      "ValueError: max_features must be in (0, n_features]\n",
      "\n",
      "  warnings.warn(some_fits_failed_message, FitFailedWarning)\n"
     ]
    }
   ],
   "source": [
    "rfc=RandomForestClassifier()\n",
    "n_estimators=[10,100,500,1000]\n",
    "max_features=['sqrt','log2',1,5,10,20]\n",
    "parameters=dict(n_estimators=n_estimators,max_features=max_features)\n",
    "\n",
    "timestamp=datetime.now().strftime('%d.%m.%Y %H:%M:%S')\n",
    "print(timestamp)\n",
    "grid=GridSearchCV(estimator=rfc,param_grid=parameters,n_jobs=-1,cv=5,scoring='f1',error_score=0,verbose=3)\n",
    "grid.fit(X_train_ro,y_train_ro)\n",
    "timestamp=datetime.now().strftime('%d.%m.%Y %H:%M:%S')\n",
    "print(timestamp)\n",
    "print(grid.best_params_)\n",
    "print(grid.best_score_)"
   ]
  },
  {
   "cell_type": "code",
   "execution_count": 75,
   "id": "4753f36e",
   "metadata": {},
   "outputs": [
    {
     "data": {
      "text/html": [
       "<div>\n",
       "<style scoped>\n",
       "    .dataframe tbody tr th:only-of-type {\n",
       "        vertical-align: middle;\n",
       "    }\n",
       "\n",
       "    .dataframe tbody tr th {\n",
       "        vertical-align: top;\n",
       "    }\n",
       "\n",
       "    .dataframe thead th {\n",
       "        text-align: right;\n",
       "    }\n",
       "</style>\n",
       "<table border=\"1\" class=\"dataframe\">\n",
       "  <thead>\n",
       "    <tr style=\"text-align: right;\">\n",
       "      <th>Prediction</th>\n",
       "      <th>0</th>\n",
       "      <th>1</th>\n",
       "    </tr>\n",
       "    <tr>\n",
       "      <th>Reality</th>\n",
       "      <th></th>\n",
       "      <th></th>\n",
       "    </tr>\n",
       "  </thead>\n",
       "  <tbody>\n",
       "    <tr>\n",
       "      <th>0</th>\n",
       "      <td>1917</td>\n",
       "      <td>7</td>\n",
       "    </tr>\n",
       "    <tr>\n",
       "      <th>1</th>\n",
       "      <td>38</td>\n",
       "      <td>38</td>\n",
       "    </tr>\n",
       "  </tbody>\n",
       "</table>\n",
       "</div>"
      ],
      "text/plain": [
       "Prediction     0   1\n",
       "Reality             \n",
       "0           1917   7\n",
       "1             38  38"
      ]
     },
     "metadata": {},
     "output_type": "display_data"
    },
    {
     "name": "stdout",
     "output_type": "stream",
     "text": [
      "              precision    recall  f1-score   support\n",
      "\n",
      "           0       0.98      1.00      0.99      1924\n",
      "           1       0.84      0.50      0.63        76\n",
      "\n",
      "    accuracy                           0.98      2000\n",
      "   macro avg       0.91      0.75      0.81      2000\n",
      "weighted avg       0.98      0.98      0.97      2000\n",
      "\n"
     ]
    }
   ],
   "source": [
    "y_pred=grid.predict(X_test)\n",
    "display(pd.crosstab(y_test,y_pred,rownames=['Reality'],colnames=['Prediction']))\n",
    "print(classification_report(y_test,y_pred))"
   ]
  },
  {
   "cell_type": "markdown",
   "id": "a9b76203",
   "metadata": {},
   "source": [
    "The RFC-Algorithm detects 50% of the impending failures"
   ]
  },
  {
   "cell_type": "code",
   "execution_count": 76,
   "id": "6c1a9606",
   "metadata": {},
   "outputs": [],
   "source": [
    "model=load('./Joblibs/RFC_Grid.joblib')"
   ]
  },
  {
   "cell_type": "markdown",
   "id": "6ca526b7",
   "metadata": {},
   "source": [
    "# __Step 5:__ \n",
    "Setting up and validating Keras Classifier"
   ]
  },
  {
   "cell_type": "code",
   "execution_count": 90,
   "id": "ea7c4c14",
   "metadata": {},
   "outputs": [],
   "source": [
    "#X_train_ro.shape\n",
    "model=Sequential()\n",
    "model.add(Dense(units=128,input_shape=(8,1)))"
   ]
  }
 ],
 "metadata": {
  "kernelspec": {
   "display_name": "Python 3 (ipykernel)",
   "language": "python",
   "name": "python3"
  },
  "language_info": {
   "codemirror_mode": {
    "name": "ipython",
    "version": 3
   },
   "file_extension": ".py",
   "mimetype": "text/x-python",
   "name": "python",
   "nbconvert_exporter": "python",
   "pygments_lexer": "ipython3",
   "version": "3.9.13"
  }
 },
 "nbformat": 4,
 "nbformat_minor": 5
}
